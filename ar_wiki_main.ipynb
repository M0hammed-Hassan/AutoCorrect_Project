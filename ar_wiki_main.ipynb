{
 "cells": [
  {
   "cell_type": "code",
   "execution_count": 1,
   "id": "f7ada87d",
   "metadata": {},
   "outputs": [],
   "source": [
    "#Required libraries\n",
    "import json\n",
    "from autocorrect import AutoCorrection"
   ]
  },
  {
   "cell_type": "code",
   "execution_count": 2,
   "id": "d8c109eb",
   "metadata": {},
   "outputs": [],
   "source": [
    "'''\n",
    "This function return a list of words by using json\n",
    "'''\n",
    "def wiki_data():\n",
    "    data_list=[]\n",
    "    file_data=open(\"ar_arz_wiki_corpus.json\")\n",
    "    for data in file_data:\n",
    "        data_list.append((json.loads(data))['text'])\n",
    "    txt=\" \".join(data_list)\n",
    "    return txt.split()\n",
    "words_lst=wiki_data()"
   ]
  },
  {
   "cell_type": "code",
   "execution_count": 3,
   "id": "6a6f5468",
   "metadata": {},
   "outputs": [
    {
     "name": "stdout",
     "output_type": "stream",
     "text": [
      "Enter your sentence:مساغدة البشر من الانسافية\n",
      "Suggestion for مساغدة is مساعدة\n",
      "Suggestion for البشر is البشر\n",
      "Suggestion for من is من\n",
      "Suggestion for الانسافية is الانسانية\n",
      "Log out(y/n):y\n"
     ]
    }
   ],
   "source": [
    "ar_letters=\"ابتثجحخدذرزسشصضطظعغفقكلمنويءؤئإألإ\"\n",
    "auto_correct=AutoCorrection(words_lst,ar_letters)\n",
    "'''\n",
    "Lets run our project\n",
    "'''\n",
    "while True:\n",
    "    txt=input('Enter your sentence:')\n",
    "    txt=txt.split()\n",
    "    for word in txt:\n",
    "        suggestion_word=auto_correct.get_correction(word)\n",
    "        print(f\"Suggestion for {word} is {suggestion_word[0][0]}\")\n",
    "    log_out=input('Log out(y/n):')\n",
    "    if log_out=='y'or log_out=='Y':\n",
    "        break"
   ]
  },
  {
   "cell_type": "code",
   "execution_count": null,
   "id": "e22a5920",
   "metadata": {},
   "outputs": [],
   "source": []
  }
 ],
 "metadata": {
  "kernelspec": {
   "display_name": "Python 3",
   "language": "python",
   "name": "python3"
  },
  "language_info": {
   "codemirror_mode": {
    "name": "ipython",
    "version": 3
   },
   "file_extension": ".py",
   "mimetype": "text/x-python",
   "name": "python",
   "nbconvert_exporter": "python",
   "pygments_lexer": "ipython3",
   "version": "3.8.8"
  }
 },
 "nbformat": 4,
 "nbformat_minor": 5
}
